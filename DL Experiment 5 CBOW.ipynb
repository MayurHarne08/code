{
  "cells": [
    {
      "cell_type": "markdown",
      "metadata": {
        "id": "o5pKXLDiTegT"
      },
      "source": [
        "Name: Naman Singh\n",
        "Roll no: 45\n",
        "Class BE (IT)"
      ]
    },
    {
      "cell_type": "code",
      "execution_count": 1,
      "metadata": {
        "id": "p1Dl_JiWs6TF"
      },
      "outputs": [],
      "source": [
        "import numpy as np\n",
        "import keras.backend as K\n",
        "from keras.models import Sequential\n",
        "from keras.layers import Dense, Embedding, Lambda\n",
        "from keras import utils\n",
        "from keras.preprocessing import sequence\n",
        "from keras.preprocessing.text import Tokenizer\n",
        "import gensim"
      ]
    },
    {
      "cell_type": "code",
      "execution_count": 2,
      "metadata": {
        "id": "snW8tGaetMWl"
      },
      "outputs": [],
      "source": [
        "#pip install keras.utils"
      ]
    },
    {
      "cell_type": "code",
      "execution_count": 3,
      "metadata": {
        "id": "BKG4Q5W4t2bf"
      },
      "outputs": [],
      "source": [
        "data=open('C:/Users/abhij/OneDrive/Desktop/New folder (2)/corona.txt','r')"
      ]
    },
    {
      "cell_type": "code",
      "execution_count": 4,
      "metadata": {
        "id": "fUsCUZokv2Jb"
      },
      "outputs": [],
      "source": [
        "corona_data = [text for text in data if text.count(' ') >= 2]"
      ]
    },
    {
      "cell_type": "code",
      "execution_count": 5,
      "metadata": {
        "id": "IGYCGqB1v6Jt"
      },
      "outputs": [],
      "source": [
        "vectorize = Tokenizer()\n",
        "vectorize.fit_on_texts(corona_data)"
      ]
    },
    {
      "cell_type": "code",
      "execution_count": 6,
      "metadata": {
        "id": "hGHQc9Byv9pA"
      },
      "outputs": [],
      "source": [
        "corona_data = vectorize.texts_to_sequences(corona_data)"
      ]
    },
    {
      "cell_type": "code",
      "execution_count": 7,
      "metadata": {
        "id": "912pzy7AwBsj"
      },
      "outputs": [],
      "source": [
        "total_vocab = sum(len(s) for s in corona_data)\n",
        "word_count = len(vectorize.word_index) + 1\n",
        "window_size = 2"
      ]
    },
    {
      "cell_type": "code",
      "execution_count": 8,
      "metadata": {
        "id": "vwt5pZH8wKk8"
      },
      "outputs": [],
      "source": [
        "def cbow_model(data, window_size, total_vocab):\n",
        "    total_length = window_size*2\n",
        "    for text in data:\n",
        "        text_len = len(text)\n",
        "        for idx, word in enumerate(text):\n",
        "            context_word = []\n",
        "            target   = []\n",
        "            begin = idx - window_size\n",
        "            end = idx + window_size + 1\n",
        "            context_word.append([text[i] for i in range(begin, end) if 0 <= i < text_len and i != idx])\n",
        "            target.append(word)\n",
        "            contextual = sequence.pad_sequences(context_word, total_length=total_length)\n",
        "            final_target = utils.to_categorical(target, total_vocab)\n",
        "            yield(contextual, final_target)"
      ]
    },
    {
      "cell_type": "code",
      "execution_count": 9,
      "metadata": {
        "colab": {
          "base_uri": "https://localhost:8080/"
        },
        "id": "iq3rhDGZwoyi",
        "outputId": "e0cfe599-7623-4587-cd92-7fcdd9b0d726"
      },
      "outputs": [
        {
          "name": "stdout",
          "output_type": "stream",
          "text": [
            "0 0\n",
            "1 0\n",
            "2 0\n",
            "3 0\n",
            "4 0\n",
            "5 0\n",
            "6 0\n",
            "7 0\n",
            "8 0\n",
            "9 0\n"
          ]
        }
      ],
      "source": [
        "model = Sequential()\n",
        "model.add(Embedding(input_dim=total_vocab, output_dim=100, input_length=window_size*2))\n",
        "model.add(Lambda(lambda x: K.mean(x, axis=1), output_shape=(100,)))\n",
        "model.add(Dense(total_vocab, activation='softmax'))\n",
        "model.compile(loss='categorical_crossentropy', optimizer='adam')\n",
        "for i in range(10):\n",
        "    cost = 0\n",
        "    for x, y in cbow_model(data, window_size, total_vocab):\n",
        "        cost += model.train_on_batch(contextual, final_target)\n",
        "    print(i, cost)\n"
      ]
    },
    {
      "cell_type": "code",
      "execution_count": 10,
      "metadata": {
        "colab": {
          "base_uri": "https://localhost:8080/"
        },
        "id": "ZSXG7GZawuaB",
        "outputId": "e2ae50a8-c1ff-49a3-b072-c3203abc2113"
      },
      "outputs": [
        {
          "data": {
            "text/plain": [
              "8"
            ]
          },
          "execution_count": 10,
          "metadata": {},
          "output_type": "execute_result"
        }
      ],
      "source": [
        "dimensions=100\n",
        "vect_file = open('vectors.txt','w')\n",
        "vect_file.write('{} {}\\n'.format(101,dimensions))\n"
      ]
    },
    {
      "cell_type": "code",
      "execution_count": 11,
      "metadata": {
        "id": "_dTl7J_Qw_dR"
      },
      "outputs": [],
      "source": [
        "weights = model.get_weights()[0]\n",
        "for text, i in vectorize.word_index.items():\n",
        "    final_vec = ' '.join(map(str, list(weights[i, :])))\n",
        "    vect_file.write('{} {}\\n'.format(text, final_vec))\n",
        "vect_file.close()"
      ]
    },
    {
      "cell_type": "code",
      "execution_count": 12,
      "metadata": {
        "colab": {
          "base_uri": "https://localhost:8080/"
        },
        "id": "lFBIb9xSxEyX",
        "outputId": "f5f8ecdb-f104-4820-c560-51930fee1f75"
      },
      "outputs": [
        {
          "data": {
            "text/plain": [
              "[('this', 0.18699419498443604),\n",
              " ('means', 0.17540979385375977),\n",
              " ('one', 0.16299185156822205),\n",
              " ('from', 0.16137158870697021),\n",
              " ('serial', 0.13281266391277313),\n",
              " ('24', 0.11340374499559402),\n",
              " ('symptoms', 0.10986600816249847),\n",
              " ('estimates', 0.10707806795835495),\n",
              " ('more', 0.09434623271226883),\n",
              " ('influenza', 0.0884518101811409)]"
            ]
          },
          "execution_count": 12,
          "metadata": {},
          "output_type": "execute_result"
        }
      ],
      "source": [
        "cbow_output = gensim.models.KeyedVectors.load_word2vec_format('vectors.txt', binary=False)\n",
        "cbow_output.most_similar(positive=['virus'])"
      ]
    },
    {
      "cell_type": "code",
      "execution_count": null,
      "metadata": {},
      "outputs": [],
      "source": []
    }
  ],
  "metadata": {
    "colab": {
      "provenance": []
    },
    "kernelspec": {
      "display_name": "Python 3",
      "name": "python3"
    },
    "language_info": {
      "codemirror_mode": {
        "name": "ipython",
        "version": 3
      },
      "file_extension": ".py",
      "mimetype": "text/x-python",
      "name": "python",
      "nbconvert_exporter": "python",
      "pygments_lexer": "ipython3",
      "version": "3.11.3"
    }
  },
  "nbformat": 4,
  "nbformat_minor": 0
}
